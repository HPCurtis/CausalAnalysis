{
 "cells": [
  {
   "cell_type": "code",
   "execution_count": 46,
   "id": "6880d5bd",
   "metadata": {},
   "outputs": [
    {
     "data": {
      "text/html": [
       "\n",
       "<style>\n",
       ".output_png {\n",
       "    display: table-cell;\n",
       "    text-align: center;\n",
       "    vertical-align: middle;\n",
       "}\n",
       "</style>\n"
      ],
      "text/plain": [
       "<IPython.core.display.HTML object>"
      ]
     },
     "execution_count": 46,
     "metadata": {},
     "output_type": "execute_result"
    }
   ],
   "source": [
    "import statsmodels.api as sm\n",
    "import pandas as pd\n",
    "import numpy as np\n",
    "import pyreadr\n",
    "import matplotlib.pyplot as plt"
   ]
  },
  {
   "cell_type": "markdown",
   "id": "646bca59",
   "metadata": {},
   "source": [
    "# Potential outcomes example using OLS regression modelling\n",
    "\n",
    "The following is a python implementation of the fantastic description of potential outcomes framework of casual inference by https://solomonkurz.netlify.app/blog/2023-04-16-causal-inference-with-potential-outcomes-bootcamp/. The point of this notebook then is for learning potential outocmes framework using OLS regression modelling implemented in python instead of R.\n",
    "\n",
    "The following data were curated by Solomon Kurz by taking the tabulated data in the original Horan & Johson (1971) paper. The data specifcally are from an experimental design as such the analysis below and claims of causlity are based on that precedenc (i.e we have the luxtury of -presumably well applied- randomisation). \n",
    "\n",
    "Horan & Johnson (1971) experiemnt was based on investigating the premack principle (a theory of reinforcement that states that a less desirable behavior can be reinforced by the opportunity to engage in a more desirable behavior) in female weight loss. Speciifcally, 80 women (defined as 20 to 30% overweight) were randomly assigned to one of four experimental conditions (delayed, placebo, scheduled experiemental). Body weight measured in lb's was the dependent varaible of interest. For the analysis here only the delayed and experimental group have been kept and stored at https://github.com/ASKurz/blogdown/tree/main/content/blog/2023-04-12-boost-your-power-with-baseline-covariates/data."
   ]
  },
  {
   "cell_type": "code",
   "execution_count": 22,
   "id": "c17fde6b",
   "metadata": {},
   "outputs": [
    {
     "data": {
      "text/html": [
       "<div>\n",
       "<style scoped>\n",
       "    .dataframe tbody tr th:only-of-type {\n",
       "        vertical-align: middle;\n",
       "    }\n",
       "\n",
       "    .dataframe tbody tr th {\n",
       "        vertical-align: top;\n",
       "    }\n",
       "\n",
       "    .dataframe thead th {\n",
       "        text-align: right;\n",
       "    }\n",
       "</style>\n",
       "<table border=\"1\" class=\"dataframe\">\n",
       "  <thead>\n",
       "    <tr style=\"text-align: right;\">\n",
       "      <th></th>\n",
       "      <th>sl</th>\n",
       "      <th>sn</th>\n",
       "      <th>treatment</th>\n",
       "      <th>pre</th>\n",
       "      <th>post</th>\n",
       "      <th>prec</th>\n",
       "      <th>delayed</th>\n",
       "      <th>experimental</th>\n",
       "    </tr>\n",
       "  </thead>\n",
       "  <tbody>\n",
       "    <tr>\n",
       "      <th>0</th>\n",
       "      <td>a</td>\n",
       "      <td>1</td>\n",
       "      <td>delayed</td>\n",
       "      <td>149.50</td>\n",
       "      <td>149.0</td>\n",
       "      <td>-5.335366</td>\n",
       "      <td>1.0</td>\n",
       "      <td>0.0</td>\n",
       "    </tr>\n",
       "    <tr>\n",
       "      <th>1</th>\n",
       "      <td>b</td>\n",
       "      <td>2</td>\n",
       "      <td>delayed</td>\n",
       "      <td>131.25</td>\n",
       "      <td>130.0</td>\n",
       "      <td>-23.585366</td>\n",
       "      <td>1.0</td>\n",
       "      <td>0.0</td>\n",
       "    </tr>\n",
       "  </tbody>\n",
       "</table>\n",
       "</div>"
      ],
      "text/plain": [
       "  sl  sn treatment     pre   post       prec  delayed  experimental\n",
       "0  a   1   delayed  149.50  149.0  -5.335366      1.0           0.0\n",
       "1  b   2   delayed  131.25  130.0 -23.585366      1.0           0.0"
      ]
     },
     "execution_count": 22,
     "metadata": {},
     "output_type": "execute_result"
    }
   ],
   "source": [
    "# Uncomment url and dst_path_again if dataset is lost from disk.\n",
    "# url = \"https://github.com/ASKurz/blogdown/blob/main/content/blog/2023-04-12-boost-your-power-with-baseline-covariates/data/horan1971.rda?raw=true\"\n",
    "# Linux directory path to datset\n",
    "dst_path = \"/home/harrison/Desktop/gitHubRepos/Datasets/horan1971.rda\"\n",
    "# dst_path_again = pyreadr.download_file(url, dst_path)\n",
    "\n",
    "# Use pyreadr to get in the rda file.\n",
    "df = pyreadr.read_r(dst_path)\n",
    "# Extract to pandas dataframe for ease\n",
    "df = df['horan1971']\n",
    "df.head(2)"
   ]
  },
  {
   "cell_type": "code",
   "execution_count": 63,
   "id": "05115368",
   "metadata": {},
   "outputs": [
    {
     "name": "stdout",
     "output_type": "stream",
     "text": [
      "Difference in means -2.4892344497607723\n"
     ]
    },
    {
     "data": {
      "text/html": [
       "\n",
       "<style>\n",
       ".output_png {\n",
       "    display: table-cell;\n",
       "    text-align: center;\n",
       "    vertical-align: middle;\n",
       "}\n",
       "</style>\n"
      ],
      "text/plain": [
       "<IPython.core.display.HTML object>"
      ]
     },
     "execution_count": 63,
     "metadata": {},
     "output_type": "execute_result"
    },
    {
     "data": {
      "image/png": "[encoded data removed]",
      "text/plain": [
       "<Figure size 640x480 with 2 Axes>"
      ]
     },
     "metadata": {},
     "output_type": "display_data"
    }
   ],
   "source": [
    "zeroI = df['experimental'] == 0\n",
    "oneI = df['experimental'] == 1\n",
    "\n",
    "fig, ax = plt.subplots(1, 2)\n",
    "ax[0].hist(df['post'][zeroI]);\n",
    "ax[1].hist(df['post'][oneI]);\n",
    "print('Difference in means', np.mean(df['post'][oneI]) - np.mean(df['post'][zeroI]))"
   ]
  },
  {
   "cell_type": "code",
   "execution_count": 59,
   "id": "d0922c06",
   "metadata": {},
   "outputs": [
    {
     "data": {
      "text/plain": [
       "-2.4892344497607723"
      ]
     },
     "execution_count": 59,
     "metadata": {},
     "output_type": "execute_result"
    }
   ],
   "source": [
    "np.mean(df['post'][oneI]) - np.mean(df['post'][zeroI])"
   ]
  },
  {
   "cell_type": "code",
   "execution_count": 45,
   "id": "9366d0be",
   "metadata": {},
   "outputs": [
    {
     "data": {
      "text/plain": [
       "(120.0, 200.0)"
      ]
     },
     "execution_count": 45,
     "metadata": {},
     "output_type": "execute_result"
    },
    {
     "data": {
      "image/png": "[encoded data removed]",
      "text/plain": [
       "<Figure size 640x480 with 2 Axes>"
      ]
     },
     "metadata": {},
     "output_type": "display_data"
    }
   ],
   "source": [
    "fig, ax = plt.subplots(1, 2)\n",
    "ax[0].scatter(x = df['pre'][zeroI], y = df['post'][zeroI])\n",
    "ax[1].scatter(x = df['pre'][oneI], y = df['post'][oneI])\n",
    "ax[0].set_xlim(120,200)\n",
    "ax[1].set_xlim(120,200)\n",
    "ax[0].set_ylim(120,200)\n",
    "ax[1].set_ylim(120,200)"
   ]
  },
  {
   "cell_type": "code",
   "execution_count": 49,
   "id": "42e1ceec",
   "metadata": {},
   "outputs": [
    {
     "name": "stdout",
     "output_type": "stream",
     "text": [
      "                            OLS Regression Results                            \n",
      "==============================================================================\n",
      "Dep. Variable:                   post   R-squared:                       0.005\n",
      "Model:                            OLS   Adj. R-squared:                 -0.020\n",
      "Method:                 Least Squares   F-statistic:                    0.2127\n",
      "Date:                Mon, 17 Jul 2023   Prob (F-statistic):              0.647\n",
      "Time:                        22:30:58   Log-Likelihood:                -173.87\n",
      "No. Observations:                  41   AIC:                             351.7\n",
      "Df Residuals:                      39   BIC:                             355.2\n",
      "Df Model:                           1                                         \n",
      "Covariance Type:            nonrobust                                         \n",
      "================================================================================\n",
      "                   coef    std err          t      P>|t|      [0.025      0.975]\n",
      "--------------------------------------------------------------------------------\n",
      "const          153.8182      3.674     41.864      0.000     146.386     161.250\n",
      "experimental    -2.4892      5.397     -0.461      0.647     -13.407       8.428\n",
      "==============================================================================\n",
      "Omnibus:                        1.851   Durbin-Watson:                   1.302\n",
      "Prob(Omnibus):                  0.396   Jarque-Bera (JB):                1.572\n",
      "Skew:                           0.471   Prob(JB):                        0.456\n",
      "Kurtosis:                       2.816   Cond. No.                         2.54\n",
      "==============================================================================\n",
      "\n",
      "Notes:\n",
      "[1] Standard Errors assume that the covariance matrix of the errors is correctly specified.\n",
      "Residual standard error 17.23380273096295\n"
     ]
    }
   ],
   "source": [
    "# Fit ordinary least square estimator regression (ANOVA)\n",
    "XAN = df['experimental']\n",
    "XAN = sm.add_constant(XAN)\n",
    "yAN = df['post']\n",
    "ANmodel = sm.OLS(yAN, XAN)\n",
    "ANresults = ANmodel.fit()\n",
    "print(ANresults.summary())\n",
    "print('Residual standard error', np.sqrt(ANresults.scale))"
   ]
  },
  {
   "cell_type": "code",
   "execution_count": 62,
   "id": "0793017b",
   "metadata": {},
   "outputs": [
    {
     "data": {
      "text/plain": [
       "297.00395656974604"
      ]
     },
     "execution_count": 62,
     "metadata": {},
     "output_type": "execute_result"
    }
   ],
   "source": []
  },
  {
   "cell_type": "code",
   "execution_count": 48,
   "id": "f6c8ba08",
   "metadata": {},
   "outputs": [
    {
     "name": "stdout",
     "output_type": "stream",
     "text": [
      "                            OLS Regression Results                            \n",
      "==============================================================================\n",
      "Dep. Variable:                   post   R-squared:                       0.867\n",
      "Model:                            OLS   Adj. R-squared:                  0.860\n",
      "Method:                 Least Squares   F-statistic:                     124.1\n",
      "Date:                Mon, 17 Jul 2023   Prob (F-statistic):           2.18e-17\n",
      "Time:                        22:30:56   Log-Likelihood:                -132.59\n",
      "No. Observations:                  41   AIC:                             271.2\n",
      "Df Residuals:                      38   BIC:                             276.3\n",
      "Df Model:                           2                                         \n",
      "Covariance Type:            nonrobust                                         \n",
      "================================================================================\n",
      "                   coef    std err          t      P>|t|      [0.025      0.975]\n",
      "--------------------------------------------------------------------------------\n",
      "const          154.7835      1.361    113.693      0.000     152.027     157.540\n",
      "experimental    -4.5724      2.002     -2.284      0.028      -8.626      -0.519\n",
      "prec             0.9085      0.058     15.705      0.000       0.791       1.026\n",
      "==============================================================================\n",
      "Omnibus:                        1.359   Durbin-Watson:                   1.562\n",
      "Prob(Omnibus):                  0.507   Jarque-Bera (JB):                0.820\n",
      "Skew:                           0.343   Prob(JB):                        0.663\n",
      "Kurtosis:                       3.098   Cond. No.                         39.0\n",
      "==============================================================================\n",
      "\n",
      "Notes:\n",
      "[1] Standard Errors assume that the covariance matrix of the errors is correctly specified.\n",
      "const           1.361421\n",
      "experimental    2.002256\n",
      "prec            0.057845\n",
      "dtype: float64\n",
      "Residual standard error 6.379119469266703\n"
     ]
    }
   ],
   "source": [
    "# Fit ordinary least square estimator regression (ANCOVA)\n",
    "XAC = df[['experimental', 'prec']]\n",
    "XAC = sm.add_constant(XAC)\n",
    "yAC = df['post']\n",
    "ACmodel = sm.OLS(yAC, XAC)\n",
    "ACresults = ACmodel.fit()\n",
    "print(ACresults.summary())\n",
    "print('Residual standard error', np.sqrt(ACresults.scale))"
   ]
  },
  {
   "cell_type": "code",
   "execution_count": null,
   "id": "d35a9d03",
   "metadata": {},
   "outputs": [],
   "source": []
  },
  {
   "cell_type": "markdown",
   "id": "d83f1790",
   "metadata": {},
   "source": [
    "The critical point to take away from the example above is that because the data analysed are from an experiment and that we are willing to accept that the experiment was conducted with proper randomisation the estimates from the OLS linear model then are unbiased causal effects in terms of ATE and CATE of the population parameters modelled here and the change in body weight measured in pounds. "
   ]
  },
  {
   "cell_type": "markdown",
   "id": "7c5f58c4",
   "metadata": {},
   "source": [
    "# References\n",
    "Horan, J. J., & Johnson, R. G. (1971). Coverant conditioning through a self-management application of the Premack principle: Its effect on weight reduction. Journal of Behavior Therapy and Experimental Psychiatry, 2(4), 243-249."
   ]
  }
 ],
 "metadata": {
  "kernelspec": {
   "display_name": "Python 3 (ipykernel)",
   "language": "python",
   "name": "python3"
  },
  "language_info": {
   "codemirror_mode": {
    "name": "ipython",
    "version": 3
   },
   "file_extension": ".py",
   "mimetype": "text/x-python",
   "name": "python",
   "nbconvert_exporter": "python",
   "pygments_lexer": "ipython3",
   "version": "3.11.4"
  }
 },
 "nbformat": 4,
 "nbformat_minor": 5
}
