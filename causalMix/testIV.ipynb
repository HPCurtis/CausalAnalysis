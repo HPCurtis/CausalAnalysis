{
 "cells": [
  {
   "cell_type": "code",
   "execution_count": 1,
   "id": "60cd2904",
   "metadata": {},
   "outputs": [],
   "source": [
    "# Import data analysis and visualisation packages.\n",
    "import numpy as np\n",
    "import pandas as pd\n",
    "import stan as ps\n",
    "import matplotlib.pyplot as plt\n",
    "import seaborn as sns\n",
    "import scipy.stats as stats\n",
    "import arviz as az\n",
    "import os\n",
    "from patsy import dmatrix\n",
    "from linearmodels.iv import IV2SLS"
   ]
  },
  {
   "cell_type": "code",
   "execution_count": null,
   "id": "43897ab8",
   "metadata": {},
   "outputs": [],
   "source": [
    "N = 500\n",
    "U_sim = np.random.normal(size = N, loc = 1, scale = 1)\n",
    "Q_sim ra"
   ]
  }
 ],
 "metadata": {
  "kernelspec": {
   "display_name": "Python 3 (ipykernel)",
   "language": "python",
   "name": "python3"
  },
  "language_info": {
   "codemirror_mode": {
    "name": "ipython",
    "version": 3
   },
   "file_extension": ".py",
   "mimetype": "text/x-python",
   "name": "python",
   "nbconvert_exporter": "python",
   "pygments_lexer": "ipython3",
   "version": "3.11.4"
  }
 },
 "nbformat": 4,
 "nbformat_minor": 5
}
